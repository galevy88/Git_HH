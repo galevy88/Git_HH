{
 "cells": [
  {
   "cell_type": "code",
   "execution_count": 41,
   "metadata": {},
   "outputs": [],
   "source": [
    "%matplotlib inline\n",
    "import pandas as pd\n",
    "import numpy as np\n",
    "import matplotlib.pyplot as plt\n",
    "import seaborn as sns\n"
   ]
  },
  {
   "cell_type": "code",
   "execution_count": 42,
   "metadata": {},
   "outputs": [],
   "source": [
    "\n",
    "# load the data\n",
    "data = pd.read_csv('Prod/dataset.csv', names=['time', 'voltage', 'conductivity'])\n"
   ]
  },
  {
   "cell_type": "code",
   "execution_count": 43,
   "metadata": {},
   "outputs": [
    {
     "name": "stdout",
     "output_type": "stream",
     "text": [
      "   time  voltage  conductivity\n",
      "0     0      -90  0.000000e+00\n",
      "1     1      -90  9.861384e-09\n",
      "2     2      -90  1.115200e-07\n",
      "3     3      -90  4.034243e-07\n",
      "4     4      -90  9.210262e-07\n",
      "<class 'pandas.core.frame.DataFrame'>\n",
      "RangeIndex: 1800 entries, 0 to 1799\n",
      "Data columns (total 3 columns):\n",
      " #   Column        Non-Null Count  Dtype  \n",
      "---  ------        --------------  -----  \n",
      " 0   time          1800 non-null   int64  \n",
      " 1   voltage       1800 non-null   int64  \n",
      " 2   conductivity  1800 non-null   float64\n",
      "dtypes: float64(1), int64(2)\n",
      "memory usage: 42.3 KB\n",
      "None\n",
      "              time      voltage  conductivity\n",
      "count  1800.000000  1800.000000   1800.000000\n",
      "mean     49.500000    -5.000000      0.504321\n",
      "std      28.874092    51.895692      0.368021\n",
      "min       0.000000   -90.000000      0.000000\n",
      "25%      24.750000   -50.000000      0.090120\n",
      "50%      49.500000    -5.000000      0.595994\n",
      "75%      74.250000    40.000000      0.870058\n",
      "max      99.000000    80.000000      0.941756\n"
     ]
    }
   ],
   "source": [
    "# display the first 5 rows of the data\n",
    "print(data.head())\n",
    "\n",
    "# check the data types and missing values\n",
    "print(data.info())\n",
    "\n",
    "# summary statistics\n",
    "print(data.describe())"
   ]
  },
  {
   "cell_type": "code",
   "execution_count": 44,
   "metadata": {},
   "outputs": [
    {
     "data": {
      "image/png": "[encoded data removed]",
      "text/plain": [
       "<Figure size 640x480 with 1 Axes>"
      ]
     },
     "metadata": {},
     "output_type": "display_data"
    }
   ],
   "source": [
    "# plot the conductivity distribution\n",
    "sns.histplot(data['conductivity'])\n",
    "plt.xlabel('Conductivity')\n",
    "plt.title('Conductivity Distribution')\n",
    "plt.show()"
   ]
  },
  {
   "cell_type": "code",
   "execution_count": null,
   "metadata": {},
   "outputs": [],
   "source": [
    "# plot the voltage vs. conductivity\n",
    "plt.scatter(data['voltage'], data['conductivity'])\n",
    "plt.xlabel('Voltage')\n",
    "plt.ylabel('Conductivity')\n",
    "plt.title('Voltage vs. Conductivity')\n",
    "plt.show()"
   ]
  }
 ],
 "metadata": {
  "kernelspec": {
   "display_name": "Python 3",
   "language": "python",
   "name": "python3"
  },
  "language_info": {
   "codemirror_mode": {
    "name": "ipython",
    "version": 3
   },
   "file_extension": ".py",
   "mimetype": "text/x-python",
   "name": "python",
   "nbconvert_exporter": "python",
   "pygments_lexer": "ipython3",
   "version": "3.10.6"
  },
  "orig_nbformat": 4
 },
 "nbformat": 4,
 "nbformat_minor": 2
}
